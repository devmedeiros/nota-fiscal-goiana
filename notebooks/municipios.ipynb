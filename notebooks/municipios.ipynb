{
 "cells": [
  {
   "cell_type": "markdown",
   "metadata": {},
   "source": [
    "# Municípios do Brasil"
   ]
  },
  {
   "cell_type": "markdown",
   "metadata": {},
   "source": [
    "O IBGE disponibiliza diversos dados abertos, muitos deles através de APIs. Tirando proveito disso é possível pegar todos os municípios do Brasil e seus respectivos estados para criar um dicionário."
   ]
  },
  {
   "cell_type": "code",
   "execution_count": 1,
   "metadata": {},
   "outputs": [],
   "source": [
    "import pandas as pd"
   ]
  },
  {
   "cell_type": "code",
   "execution_count": 2,
   "metadata": {},
   "outputs": [],
   "source": [
    "url = 'https://servicodados.ibge.gov.br/api/v1/localidades/municipios?orderBy=nome'"
   ]
  },
  {
   "cell_type": "code",
   "execution_count": 3,
   "metadata": {},
   "outputs": [],
   "source": [
    "municipios = pd.read_json(url)"
   ]
  },
  {
   "cell_type": "markdown",
   "metadata": {},
   "source": [
    "Como existe muitas cidades com o mesmo nome, vou criar uma lista de prioridade seguindo a regra: `capital > outros municípios` e `municípios de goiás > demais`, a motivação por trás disso é simples, é mais provável que uma pessoa seja de um município que é capital do que de outros municípios, pois são mais populosos e a probabilidade dessas pessoas serem do estado de Goiás é maior pois é onde o programa funciona (as compras precisam ser feitas no estado para concorrerem)."
   ]
  },
  {
   "cell_type": "code",
   "execution_count": 4,
   "metadata": {},
   "outputs": [],
   "source": [
    "capitais = {\n",
    "    'Acre': 'Rio Branco',\n",
    "    'Alagoas': 'Maceió',\n",
    "    'Amapá': 'Macapá',\n",
    "    'Amazonas': 'Manaus',\n",
    "    'Bahia': 'Salvador',\n",
    "    'Ceará': 'Fortaleza', \n",
    "    'Distrito Federal': 'Brasília',\n",
    "    'Espírito Santo': 'Vitória',\n",
    "    'Goiás': 'Goiânia',\n",
    "    'Maranhão': 'São Luís',\n",
    "    'Mato Grosso': 'Cuiabá',\n",
    "    'Mato Grosso do Sul': 'Campo Grande',\n",
    "    'Minas Gerais': 'Belo Horizonte',\n",
    "    'Pará': 'Belém',\n",
    "    'Paraíba': 'João Pessoa',\n",
    "    'Paraná': 'Curitiba',\n",
    "    'Pernambuco': 'Recife', \n",
    "    'Piauí': 'Teresina',\n",
    "    'Rio de Janeiro': 'Rio de Janeiro',\n",
    "    'Rio Grande do Norte': 'Natal',\n",
    "    'Rio Grande do Sul': 'Porto Alegre',\n",
    "    'Rondônia': 'Porto Velho',\n",
    "    'Roraima': 'Boa Vista',\n",
    "    'Santa Catarina': 'Florianópolis',\n",
    "    'São Paulo': 'São Paulo',\n",
    "    'Sergipe': 'Aracaju',\n",
    "    'Tocantins': 'Palmas' \n",
    "}"
   ]
  },
  {
   "cell_type": "code",
   "execution_count": 5,
   "metadata": {},
   "outputs": [],
   "source": [
    "municipios['uf'] = pd.json_normalize(municipios.microrregiao)['mesorregiao.UF.nome']"
   ]
  },
  {
   "cell_type": "code",
   "execution_count": 6,
   "metadata": {},
   "outputs": [
    {
     "data": {
      "text/html": [
       "<div>\n",
       "<style scoped>\n",
       "    .dataframe tbody tr th:only-of-type {\n",
       "        vertical-align: middle;\n",
       "    }\n",
       "\n",
       "    .dataframe tbody tr th {\n",
       "        vertical-align: top;\n",
       "    }\n",
       "\n",
       "    .dataframe thead th {\n",
       "        text-align: right;\n",
       "    }\n",
       "</style>\n",
       "<table border=\"1\" class=\"dataframe\">\n",
       "  <thead>\n",
       "    <tr style=\"text-align: right;\">\n",
       "      <th></th>\n",
       "      <th>id</th>\n",
       "      <th>nome</th>\n",
       "      <th>uf</th>\n",
       "    </tr>\n",
       "  </thead>\n",
       "  <tbody>\n",
       "    <tr>\n",
       "      <th>0</th>\n",
       "      <td>5200050</td>\n",
       "      <td>Abadia de Goiás</td>\n",
       "      <td>Goiás</td>\n",
       "    </tr>\n",
       "    <tr>\n",
       "      <th>1</th>\n",
       "      <td>3100104</td>\n",
       "      <td>Abadia dos Dourados</td>\n",
       "      <td>Minas Gerais</td>\n",
       "    </tr>\n",
       "    <tr>\n",
       "      <th>2</th>\n",
       "      <td>5200100</td>\n",
       "      <td>Abadiânia</td>\n",
       "      <td>Goiás</td>\n",
       "    </tr>\n",
       "    <tr>\n",
       "      <th>3</th>\n",
       "      <td>3100203</td>\n",
       "      <td>Abaeté</td>\n",
       "      <td>Minas Gerais</td>\n",
       "    </tr>\n",
       "    <tr>\n",
       "      <th>4</th>\n",
       "      <td>1500107</td>\n",
       "      <td>Abaetetuba</td>\n",
       "      <td>Pará</td>\n",
       "    </tr>\n",
       "  </tbody>\n",
       "</table>\n",
       "</div>"
      ],
      "text/plain": [
       "        id                 nome            uf\n",
       "0  5200050      Abadia de Goiás         Goiás\n",
       "1  3100104  Abadia dos Dourados  Minas Gerais\n",
       "2  5200100            Abadiânia         Goiás\n",
       "3  3100203               Abaeté  Minas Gerais\n",
       "4  1500107           Abaetetuba          Pará"
      ]
     },
     "execution_count": 6,
     "metadata": {},
     "output_type": "execute_result"
    }
   ],
   "source": [
    "municipios.drop(columns=['microrregiao', 'regiao-imediata'], inplace=True)\n",
    "municipios.head()"
   ]
  },
  {
   "cell_type": "code",
   "execution_count": 7,
   "metadata": {},
   "outputs": [],
   "source": [
    "municipios['capital'] = 0"
   ]
  },
  {
   "cell_type": "code",
   "execution_count": 8,
   "metadata": {},
   "outputs": [],
   "source": [
    "for key in capitais.keys():\n",
    "    municipios.loc[municipios[(municipios.uf == key) & (municipios.nome == capitais[key])].index, 'capital'] = 1"
   ]
  },
  {
   "cell_type": "code",
   "execution_count": 9,
   "metadata": {},
   "outputs": [],
   "source": [
    "municipios['goias'] = [int(x == 'Goiás') for x in municipios.uf]"
   ]
  },
  {
   "cell_type": "code",
   "execution_count": 10,
   "metadata": {},
   "outputs": [],
   "source": [
    "municipios.sort_values(by=['capital', 'goias'], ascending=False, inplace=True)"
   ]
  },
  {
   "cell_type": "code",
   "execution_count": 11,
   "metadata": {},
   "outputs": [],
   "source": [
    "municipios.drop_duplicates(subset=['nome'], keep='first', inplace=True)"
   ]
  },
  {
   "cell_type": "code",
   "execution_count": 12,
   "metadata": {},
   "outputs": [],
   "source": [
    "import unicodedata\n",
    "def strip_accents(s):\n",
    "   return ''.join(c for c in unicodedata.normalize('NFD', s)\n",
    "                  if unicodedata.category(c) != 'Mn')"
   ]
  },
  {
   "cell_type": "code",
   "execution_count": 13,
   "metadata": {},
   "outputs": [],
   "source": [
    "municipios['nome_simples'] = [strip_accents(i) for i in municipios.nome.str.upper()]\n",
    "municipios['uf_simples'] = [strip_accents(i) for i in municipios.uf.str.upper()]"
   ]
  },
  {
   "cell_type": "code",
   "execution_count": 14,
   "metadata": {},
   "outputs": [],
   "source": [
    "municipios.drop(columns=['capital','goias'], inplace=True)"
   ]
  },
  {
   "cell_type": "code",
   "execution_count": 15,
   "metadata": {},
   "outputs": [
    {
     "data": {
      "text/html": [
       "<div>\n",
       "<style scoped>\n",
       "    .dataframe tbody tr th:only-of-type {\n",
       "        vertical-align: middle;\n",
       "    }\n",
       "\n",
       "    .dataframe tbody tr th {\n",
       "        vertical-align: top;\n",
       "    }\n",
       "\n",
       "    .dataframe thead th {\n",
       "        text-align: right;\n",
       "    }\n",
       "</style>\n",
       "<table border=\"1\" class=\"dataframe\">\n",
       "  <thead>\n",
       "    <tr style=\"text-align: right;\">\n",
       "      <th></th>\n",
       "      <th>id</th>\n",
       "      <th>nome</th>\n",
       "      <th>uf</th>\n",
       "      <th>nome_simples</th>\n",
       "      <th>uf_simples</th>\n",
       "    </tr>\n",
       "  </thead>\n",
       "  <tbody>\n",
       "    <tr>\n",
       "      <th>1926</th>\n",
       "      <td>5208707</td>\n",
       "      <td>Goiânia</td>\n",
       "      <td>Goiás</td>\n",
       "      <td>GOIANIA</td>\n",
       "      <td>GOIAS</td>\n",
       "    </tr>\n",
       "    <tr>\n",
       "      <th>294</th>\n",
       "      <td>2800308</td>\n",
       "      <td>Aracaju</td>\n",
       "      <td>Sergipe</td>\n",
       "      <td>ARACAJU</td>\n",
       "      <td>SERGIPE</td>\n",
       "    </tr>\n",
       "    <tr>\n",
       "      <th>579</th>\n",
       "      <td>1501402</td>\n",
       "      <td>Belém</td>\n",
       "      <td>Pará</td>\n",
       "      <td>BELEM</td>\n",
       "      <td>PARA</td>\n",
       "    </tr>\n",
       "    <tr>\n",
       "      <th>591</th>\n",
       "      <td>3106200</td>\n",
       "      <td>Belo Horizonte</td>\n",
       "      <td>Minas Gerais</td>\n",
       "      <td>BELO HORIZONTE</td>\n",
       "      <td>MINAS GERAIS</td>\n",
       "    </tr>\n",
       "    <tr>\n",
       "      <th>642</th>\n",
       "      <td>1400100</td>\n",
       "      <td>Boa Vista</td>\n",
       "      <td>Roraima</td>\n",
       "      <td>BOA VISTA</td>\n",
       "      <td>RORAIMA</td>\n",
       "    </tr>\n",
       "  </tbody>\n",
       "</table>\n",
       "</div>"
      ],
      "text/plain": [
       "           id            nome            uf    nome_simples    uf_simples\n",
       "1926  5208707         Goiânia         Goiás         GOIANIA         GOIAS\n",
       "294   2800308         Aracaju       Sergipe         ARACAJU       SERGIPE\n",
       "579   1501402           Belém          Pará           BELEM          PARA\n",
       "591   3106200  Belo Horizonte  Minas Gerais  BELO HORIZONTE  MINAS GERAIS\n",
       "642   1400100       Boa Vista       Roraima       BOA VISTA       RORAIMA"
      ]
     },
     "execution_count": 15,
     "metadata": {},
     "output_type": "execute_result"
    }
   ],
   "source": [
    "municipios.head()"
   ]
  },
  {
   "cell_type": "code",
   "execution_count": 16,
   "metadata": {},
   "outputs": [],
   "source": [
    "municipios.to_csv('dados/municipios.csv', index=False)"
   ]
  },
  {
   "cell_type": "code",
   "execution_count": null,
   "metadata": {},
   "outputs": [],
   "source": []
  }
 ],
 "metadata": {
  "kernelspec": {
   "display_name": "Python 3.9.12 ('venv': venv)",
   "language": "python",
   "name": "python3"
  },
  "language_info": {
   "codemirror_mode": {
    "name": "ipython",
    "version": 3
   },
   "file_extension": ".py",
   "mimetype": "text/x-python",
   "name": "python",
   "nbconvert_exporter": "python",
   "pygments_lexer": "ipython3",
   "version": "3.9.12"
  },
  "orig_nbformat": 4,
  "vscode": {
   "interpreter": {
    "hash": "9fe7cd71649532de0d085f5dda86f219d7350618bddbd0982d9f8531855e1e3d"
   }
  }
 },
 "nbformat": 4,
 "nbformat_minor": 2
}
